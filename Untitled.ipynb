{
 "cells": [
  {
   "cell_type": "code",
   "execution_count": 25,
   "id": "3efa3eec",
   "metadata": {},
   "outputs": [],
   "source": [
    "from pyspark.sql import SparkSession\n",
    "import pandas as pd"
   ]
  },
  {
   "cell_type": "code",
   "execution_count": 3,
   "id": "98142ed6",
   "metadata": {},
   "outputs": [],
   "source": [
    "spark = SparkSession \\\n",
    "    .builder \\\n",
    "    .appName(\"how to read csv file\") \\\n",
    "    .getOrCreate()"
   ]
  },
  {
   "cell_type": "code",
   "execution_count": 9,
   "id": "c26ca0f1",
   "metadata": {},
   "outputs": [
    {
     "name": "stdout",
     "output_type": "stream",
     "text": [
      "3.1.2\n"
     ]
    }
   ],
   "source": [
    "print(spark.version)"
   ]
  },
  {
   "cell_type": "code",
   "execution_count": 11,
   "id": "971d6ce7",
   "metadata": {},
   "outputs": [],
   "source": [
    "df = spark.read.csv('emp.csv',header=True)"
   ]
  },
  {
   "cell_type": "code",
   "execution_count": 19,
   "id": "2599e37f",
   "metadata": {},
   "outputs": [],
   "source": [
    "df1 = spark.read.csv('sample.csv',header=True)"
   ]
  },
  {
   "cell_type": "code",
   "execution_count": 16,
   "id": "4708a888",
   "metadata": {},
   "outputs": [
    {
     "name": "stdout",
     "output_type": "stream",
     "text": [
      "Enter Here2\n"
     ]
    }
   ],
   "source": [
    "n=int(input(\"Enter Here\"))"
   ]
  },
  {
   "cell_type": "code",
   "execution_count": 31,
   "id": "13d50ddc",
   "metadata": {},
   "outputs": [
    {
     "name": "stdout",
     "output_type": "stream",
     "text": [
      "+-----+--------+--------------------+\n",
      "|EMPNO|   ENAME|                 JOB|\n",
      "+-----+--------+--------------------+\n",
      "|    1|   AYUSH|ASSOCIATE SOFTWAR...|\n",
      "|    2|    ANUJ|ASSOCIATE SOFTWAR...|\n",
      "|    3|SWARNALI|ASSOCIATE SOFTWAR...|\n",
      "|    4|  GAURAV|ASSOCIATE SOFTWAR...|\n",
      "|    5|  SHIVAM|ASSOCIATE SOFTWAR...|\n",
      "+-----+--------+--------------------+\n",
      "\n"
     ]
    }
   ],
   "source": [
    "df.show() "
   ]
  },
  {
   "cell_type": "code",
   "execution_count": null,
   "id": "a2129a6f",
   "metadata": {},
   "outputs": [],
   "source": []
  },
  {
   "cell_type": "code",
   "execution_count": null,
   "id": "f750842b",
   "metadata": {},
   "outputs": [],
   "source": []
  }
 ],
 "metadata": {
  "kernelspec": {
   "display_name": "Python 3 (ipykernel)",
   "language": "python",
   "name": "python3"
  },
  "language_info": {
   "codemirror_mode": {
    "name": "ipython",
    "version": 3
   },
   "file_extension": ".py",
   "mimetype": "text/x-python",
   "name": "python",
   "nbconvert_exporter": "python",
   "pygments_lexer": "ipython3",
   "version": "3.9.5"
  }
 },
 "nbformat": 4,
 "nbformat_minor": 5
}
